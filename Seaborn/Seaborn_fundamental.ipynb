{
 "cells": [
  {
   "cell_type": "markdown",
   "metadata": {},
   "source": [
    "load_dataset\n",
    "\n",
    "(function) load_dataset: (name: Any, cache: bool = True, data_home: Any | None = None, **kws: Any) -> Any\n",
    "\n",
    "Load an example dataset from the online repository (requires internet).\n",
    "\n",
    "This function provides quick access to a small number of example datasets that are useful for documenting seaborn or generating reproducible examples for bug reports. It is not necessary for normal usage.\n",
    "\n",
    "Note that some of the datasets have a small amount of preprocessing applied to define a proper ordering for categorical variables.\n",
    "\n",
    "Use get_dataset_names to see a list of available datasets.\n",
    "\n",
    "https://github.com/mwaskom/seaborn-data"
   ]
  },
  {
   "cell_type": "markdown",
   "metadata": {},
   "source": [
    "RandomState and Generator expose a number of methods for generating random numbers drawn from a variety of probability distributions. In addition to the distribution-specific arguments, each method takes a keyword argument size that defaults to None. If size is None, then a single value is generated and returned. If size is an integer, then a 1-D array filled with generated values is returned. If size is a tuple, then an array with that shape is filled and returned."
   ]
  },
  {
   "cell_type": "code",
   "execution_count": 1,
   "metadata": {},
   "outputs": [],
   "source": [
    "import seaborn as sns\n",
    "import numpy as np\n",
    "import matplotlib.pyplot as plt\n"
   ]
  },
  {
   "cell_type": "markdown",
   "metadata": {},
   "source": [
    "# 1. Plotting graph using Seaborn"
   ]
  },
  {
   "cell_type": "code",
   "execution_count": 2,
   "metadata": {},
   "outputs": [
    {
     "name": "stderr",
     "output_type": "stream",
     "text": [
      "C:\\Python310\\lib\\site-packages\\seaborn\\distributions.py:2619: FutureWarning: `distplot` is a deprecated function and will be removed in a future version. Please adapt your code to use either `displot` (a figure-level function with similar flexibility) or `histplot` (an axes-level function for histograms).\n",
      "  warnings.warn(msg, FutureWarning)\n"
     ]
    },
    {
     "data": {
      "text/plain": [
       "<AxesSubplot:ylabel='Density'>"
      ]
     },
     "execution_count": 2,
     "metadata": {},
     "output_type": "execute_result"
    },
    {
     "data": {
      "image/png": "[encoded data removed]",
      "text/plain": [
       "<Figure size 432x288 with 1 Axes>"
      ]
     },
     "metadata": {},
     "output_type": "display_data"
    }
   ],
   "source": [
    "sns.set(style=\"white\") # Selecting style as white,dark, whitegrid, darkgrid or ticks\n",
    "rs = np.random.RandomState(10) # Generate a random univariate dataset\n",
    "d = rs.normal(size=100)\n",
    "sns.distplot(d, color=\"m\") # Plot a simple histogram and kde,with binsize determined automatically\n"
   ]
  },
  {
   "cell_type": "markdown",
   "metadata": {},
   "source": [
    "lineplot()"
   ]
  },
  {
   "cell_type": "code",
   "execution_count": null,
   "metadata": {},
   "outputs": [],
   "source": [
    "sns.set(style=\"dark\")\n",
    "fmri = sns.load_dataset(\"fmri\")\n",
    "\n",
    "sns.lineplot(x=\"timepoint\",y=\"signal\",hue=\"region\",style=\"event\",data=fmri) # Plot the responses for different\\events and regions"
   ]
  },
  {
   "cell_type": "code",
   "execution_count": null,
   "metadata": {},
   "outputs": [],
   "source": [
    "fmri"
   ]
  },
  {
   "cell_type": "code",
   "execution_count": null,
   "metadata": {},
   "outputs": [],
   "source": [
    "sns.get_dataset_names() # getting the name of all dataset "
   ]
  },
  {
   "cell_type": "markdown",
   "metadata": {},
   "source": [
    "seaborn.lmplot() method is used to draw a scatter plot onto a FacetGrid.\n",
    "\n",
    "Syntax : seaborn.lmplot(x, y, data, hue=None, col=None, row=None)\n",
    "\n",
    "x, y: ( optional) This parameters are column names in data.\n",
    "data : This parameter is DataFrame .\n",
    "hue, col, row : This parameters are define subsets of the data, which will be drawn on separate facets in the grid.\n"
   ]
  },
  {
   "cell_type": "markdown",
   "metadata": {},
   "source": [
    "lmplot()"
   ]
  },
  {
   "cell_type": "code",
   "execution_count": null,
   "metadata": {},
   "outputs": [],
   "source": [
    "sns.set(style=\"ticks\")\n",
    "df = sns.load_dataset(\"anscombe\") # Loading the dataset\n",
    "sns.lmplot(x=\"x\", y=\"y\", data=df) # Show the results of a linear regression"
   ]
  },
  {
   "cell_type": "markdown",
   "metadata": {},
   "source": [
    "striplot()\n",
    "\n",
    "It is used to draw a scatter plot based on the category.\n",
    "\n",
    "This is the one kind of scatter plot of categorical data with the help of seaborn.  \n",
    "Categorical data is represented on the x-axis and values correspond to them represented through the y-axis.\n",
    ".striplot() function is used to define the type of the plot and to plot them on canvas using.\n",
    "\n",
    "Parameters:\n",
    "\n",
    "x, y, hue: Inputs for plotting long-form data.\n",
    "\n",
    "data: Dataset for plotting.\n",
    "\n",
    "order: It is the order to plot the categorical levels in.\n",
    "\n",
    "color: It is the color for all of the elements, or seed for a gradient palette\n",
    "Returns: This method returns the Axes object with the plot drawn onto it.\n",
    "\n",
    "set() function is used to set labels of x-axis and y-axis.\n"
   ]
  },
  {
   "cell_type": "code",
   "execution_count": null,
   "metadata": {},
   "outputs": [],
   "source": [
    "x =['sun', 'mon', 'fri', 'sat', 'tue', 'wed', 'thu']\n",
    "y =[5, 6.7, 4, 6, 2, 4.9, 1.8]\n",
    " \n",
    "ax = sns.stripplot(x, y) # plotting strip plot with seaborn\n",
    "ax.set(xlabel ='Days', ylabel ='Amount_spend') # giving labels to x-axis and y-axis\n",
    "plt.title('My first graph') # giving title to the plot\n",
    "plt.show() # function to show plot"
   ]
  },
  {
   "cell_type": "code",
   "execution_count": null,
   "metadata": {},
   "outputs": [],
   "source": [
    "sns.set(style=\"whitegrid\") # use to set style of background of plot\n",
    "iris = sns.load_dataset('iris') # loading data-set\n",
    "ax = sns.stripplot(x='species', y='sepal_length', data=iris)\n",
    "plt.title('Graph') # giving title to the plot\n",
    "plt.show()"
   ]
  },
  {
   "cell_type": "markdown",
   "metadata": {},
   "source": [
    "Swarmplot()\n",
    "This is very much similar to stripplot but the only difference is that it does not allow overlapping of markers. It causes jittering in the markers of the plot so that graph can easily be read without information loss as seen in the above plot. "
   ]
  },
  {
   "cell_type": "code",
   "execution_count": null,
   "metadata": {},
   "outputs": [],
   "source": [
    "\n",
    "sns.set(style=\"whitegrid\")\n",
    "iris = sns.load_dataset('iris')\n",
    "\n",
    "ax = sns.swarmplot(x='species', y='sepal_length', data=iris)\n",
    "plt.title('Graph')\n",
    "plt.show()"
   ]
  },
  {
   "cell_type": "code",
   "execution_count": null,
   "metadata": {},
   "outputs": [],
   "source": [
    "\n",
    "sns.set(style=\"whitegrid\")\n",
    "iris = sns.load_dataset('iris')\n",
    "ax = sns.swarmplot(x='sepal_length', y='species', data=iris)\n",
    "plt.title('Graph')\n",
    "plt.show()\n"
   ]
  },
  {
   "cell_type": "markdown",
   "metadata": {},
   "source": [
    "Barplot()\n",
    "\n",
    "A barplot is basically used to aggregate the categorical data according to some methods and by default it’s the mean. It can also be understood as a visualization of the group by action. To use this plot we choose a categorical column for the x-axis and a numerical column for the y-axis, and we see that it creates a plot taking a mean per categorical column.\n",
    "\n",
    "Syntax:\n",
    "barplot([x, y, hue, data, order, hue_order, …])"
   ]
  },
  {
   "cell_type": "code",
   "execution_count": null,
   "metadata": {},
   "outputs": [],
   "source": [
    "df = sns.load_dataset('tips')\n",
    "plt.figure(figsize=(10,8))\n",
    "sns.barplot(x ='sex', y ='total_bill', data = df,palette ='plasma') # Palette is used to set the color of the plot"
   ]
  },
  {
   "cell_type": "markdown",
   "metadata": {},
   "source": [
    "Countplot()\n",
    "\n",
    "A countplot basically counts the categories and returns a count of their occurrences. It is one of the simplest plots provided by the seaborn library.\n",
    "\n",
    "seaborn.countplot() method is used to Show the counts of observations in each categorical bin using bars.\n",
    "\n",
    "Syntax:\n",
    "countplot([x, y, hue, data, order, …])"
   ]
  },
  {
   "cell_type": "code",
   "execution_count": null,
   "metadata": {},
   "outputs": [],
   "source": [
    "\n",
    "df = sns.load_dataset('tips')\n",
    "sns.countplot(x ='sex', data = df)"
   ]
  },
  {
   "cell_type": "code",
   "execution_count": null,
   "metadata": {},
   "outputs": [],
   "source": [
    "df = sns.load_dataset('tips')\n",
    "df.head()"
   ]
  },
  {
   "cell_type": "code",
   "execution_count": null,
   "metadata": {},
   "outputs": [],
   "source": [
    "df.shape"
   ]
  },
  {
   "cell_type": "markdown",
   "metadata": {},
   "source": [
    "Boxplot()\n",
    "\n",
    "Box Plot is the visual representation of the depicting groups of numerical data through their quartiles. Boxplot is also used to detect the outlier in the data set.\n",
    "\n",
    "Syntax:\n",
    "boxplot([x, y, hue, data, order, hue_order, …])"
   ]
  },
  {
   "cell_type": "code",
   "execution_count": null,
   "metadata": {},
   "outputs": [],
   "source": [
    "# reading the dataset\n",
    "df = sns.load_dataset('tips')\n",
    "sns.boxplot(x='day', y='total_bill', data=df, hue='smoker')"
   ]
  },
  {
   "cell_type": "markdown",
   "metadata": {},
   "source": [
    "Violinplot()\n",
    "\n",
    "It is similar to the boxplot except that it provides a higher, more advanced visualization and uses the kernel density estimation to give a better description about the data distribution.\n",
    "\n",
    "Syntax:\n",
    "violinplot([x, y, hue, data, order, …])"
   ]
  },
  {
   "cell_type": "code",
   "execution_count": null,
   "metadata": {},
   "outputs": [],
   "source": [
    "df = sns.load_dataset('tips')\n",
    "sns.violinplot(x='day', y='total_bill', data=df,hue='sex', split=True)"
   ]
  },
  {
   "cell_type": "markdown",
   "metadata": {},
   "source": [
    "Explanation:\n",
    "\n",
    "hue is used to separate the data further using the sex category\n",
    "setting split=True will draw half of a violin for each level. This can make it easier to directly compare the distributions."
   ]
  },
  {
   "cell_type": "markdown",
   "metadata": {},
   "source": [
    "# 2. Style And Color\n",
    "\n",
    "The ways of styling themes are as follows: white, dark, whitegrid, darkgrid, ticks\n",
    "\n"
   ]
  },
  {
   "cell_type": "code",
   "execution_count": null,
   "metadata": {},
   "outputs": [],
   "source": [
    "# Set the background to be white:\n",
    "tips = sns.load_dataset('tips')\n",
    "sns.set_style('white') # set_style() function is used for plot styling.\n",
    "sns.countplot(x ='sex', data = tips)"
   ]
  },
  {
   "cell_type": "markdown",
   "metadata": {},
   "source": [
    "Removing Axes Spines\n",
    "\n",
    "The despine() is a function that removes the spines from the right and upper portion of the plot by default. sns.despine(left = True) helps remove the spine from the left.\n",
    " "
   ]
  },
  {
   "cell_type": "code",
   "execution_count": null,
   "metadata": {},
   "outputs": [],
   "source": [
    "tips = sns.load_dataset('tips')\n",
    "sns.countplot(x ='sex', data = tips)\n",
    "sns.despine()"
   ]
  },
  {
   "cell_type": "code",
   "execution_count": null,
   "metadata": {},
   "outputs": [],
   "source": [
    "tips = sns.load_dataset('tips')\n",
    "sns.countplot(x ='sex', data = tips)\n",
    "sns.despine(bottom=True, left=True)"
   ]
  },
  {
   "cell_type": "markdown",
   "metadata": {},
   "source": [
    "Size and aspect\n",
    "\n",
    "Non grid plot: The figure() is a matplotlib function used to plot the figures. The figsize is used to set the size of the figure. "
   ]
  },
  {
   "cell_type": "code",
   "execution_count": null,
   "metadata": {},
   "outputs": [],
   "source": [
    "tips = sns.load_dataset('tips')\n",
    "plt.figure(figsize =(12, 7))\n",
    "sns.countplot(x ='sex', data = tips)"
   ]
  },
  {
   "cell_type": "code",
   "execution_count": null,
   "metadata": {},
   "outputs": [],
   "source": [
    "\n",
    "tips = sns.load_dataset('tips')\n",
    "sns.lmplot(x ='total_bill', y ='tip', size = 6, aspect = 2, data = tips)\n"
   ]
  },
  {
   "cell_type": "markdown",
   "metadata": {},
   "source": [
    " size=2 is used to the size(the height)of the plot. aspect is used to set the width keeping the width constant."
   ]
  },
  {
   "cell_type": "markdown",
   "metadata": {},
   "source": [
    "Scale and Context\n",
    "\n",
    "The set_context() allows us to override default parameters. This affects things like the size of the labels, lines, and other elements of the plot, but not the overall style. \n",
    "\n",
    "The context are: poster, paper, notebook, talk"
   ]
  },
  {
   "cell_type": "code",
   "execution_count": null,
   "metadata": {},
   "outputs": [],
   "source": [
    "tips = sns.load_dataset('tips')\n",
    "sns.set_context('poster', font_scale = 2) # using poster.\n",
    "sns.countplot(x ='sex', data = tips, palette ='coolwarm')"
   ]
  },
  {
   "cell_type": "markdown",
   "metadata": {},
   "source": [
    "# 3. Color Palette\n",
    "In this article, We are going to see seaborn color_palette(), which can be used for coloring the plot. Using the palette we can generate the point with different colors.\n",
    "\n",
    "Syntax: seaborn.color_palette(palette=None, n_colors=None, desat=None)\n",
    "\n",
    "Parameters:\n",
    "\n",
    "palette: Name of palette or None to return current palette. \n",
    "\n",
    "n_colors: Number of colors in the palette.\n",
    "\n",
    "desat: Proportion to desaturate each color.\n",
    "\n",
    "Returns: list of RGB tuples or matplotlib.colors.Colormap"
   ]
  },
  {
   "cell_type": "markdown",
   "metadata": {},
   "source": [
    "We will classify the different ways for using color_palette() types −\n",
    "\n",
    "Qualitative, Sequential, Diverging"
   ]
  },
  {
   "cell_type": "markdown",
   "metadata": {},
   "source": [
    "palplot()\n",
    " \n",
    " The function palplot() creates a plot for the colors of the palette. It does that for different palettes. For simplicity, we only show one palette of all the palettes created.\n",
    "\n",
    " we have used sns.color_palette() to construct a colormap and sns.palplot() to display the colors present in the colormap with “deep” attributes."
   ]
  },
  {
   "cell_type": "markdown",
   "metadata": {},
   "source": [
    "Qualitative\n",
    "\n",
    "A qualitative palette is used when the variable is categorical in nature, the color assigned to each group need to be distinct. Each possible value of the variable is assigned one color from a qualitative palette within a plot as shown in figure."
   ]
  },
  {
   "cell_type": "code",
   "execution_count": null,
   "metadata": {},
   "outputs": [],
   "source": [
    "Q=sns.color_palette()\n",
    "sns.palplot(Q)\n",
    "plt.show()"
   ]
  },
  {
   "cell_type": "code",
   "execution_count": null,
   "metadata": {},
   "outputs": [],
   "source": [
    "A=sns.color_palette(\"deep\", 10)\n",
    "sns.palplot(A)"
   ]
  },
  {
   "cell_type": "markdown",
   "metadata": {},
   "source": [
    "Sequential\n",
    "\n",
    "In sequential palettes color moved sequentially from a lighter to a darker. When the variable assigned to be colored is numeric or has inherently ordered values, then it can be depicted with a sequential palette as shown in figure."
   ]
  },
  {
   "cell_type": "code",
   "execution_count": null,
   "metadata": {},
   "outputs": [],
   "source": [
    "# Greys\n",
    "G=sns.color_palette(\"Greys\")\n",
    "sns.palplot(G)\n",
    "plt.show()\n"
   ]
  },
  {
   "cell_type": "code",
   "execution_count": null,
   "metadata": {},
   "outputs": [],
   "source": [
    "# Greens\n",
    "G=sns.color_palette(\"Greens\",10)\n",
    "sns.palplot(G)\n",
    "plt.show()"
   ]
  },
  {
   "cell_type": "code",
   "execution_count": null,
   "metadata": {},
   "outputs": [],
   "source": [
    "# Greens\n",
    "G=sns.color_palette(\"Reds\")\n",
    "sns.palplot(G)\n",
    "plt.show()"
   ]
  },
  {
   "cell_type": "markdown",
   "metadata": {},
   "source": [
    "Diverging\n",
    "\n",
    "When we work on mixed value like +ve and -ve(low and high values) then diverging palette is the best suit for visualization."
   ]
  },
  {
   "cell_type": "code",
   "execution_count": null,
   "metadata": {},
   "outputs": [],
   "source": [
    "\n",
    "D=sns.color_palette(\"terrain\", 5)\n",
    "sns.palplot(D)\n",
    "plt.show()\n"
   ]
  },
  {
   "cell_type": "code",
   "execution_count": null,
   "metadata": {},
   "outputs": [],
   "source": [
    "A=sns.color_palette(\"deep\", 10)\n",
    "sns.palplot(A)\n"
   ]
  },
  {
   "cell_type": "code",
   "execution_count": null,
   "metadata": {},
   "outputs": [],
   "source": [
    "A=sns.color_palette(\"Blues_r\", 10)\n",
    "sns.palplot(A)"
   ]
  },
  {
   "cell_type": "markdown",
   "metadata": {},
   "source": [
    "The possible value of the palette are:\n",
    "\n",
    "‘Accent’, ‘Accent_r’, ‘Blues’, ‘Blues_r’, ‘BrBG’, ‘BrBG_r’, ‘BuGn’, ‘BuGn_r’, ‘BuPu’, ‘BuPu_r’, ‘CMRmap’, ‘CMRmap_r’, ‘Dark2’, ‘Dark2_r’, ‘GnBu’, ‘GnBu_r’,  ‘Greens’, ‘Greens_r’, ‘Greys’, ‘Greys_r’, ‘OrRd’, ‘OrRd_r’, ‘Oranges’, ‘Oranges_r’,  ‘PRGn’, ‘PRGn_r’, ‘Paired’, ‘Paired_r’, ‘Pastel1’, ‘Pastel1_r’, ‘Pastel2’,  ‘Pastel2_r’, ‘PiYG’, ‘PiYG_r’, ‘PuBu’, ‘PuBuGn’, ‘PuBuGn_r’, ‘PuBu_r’, ‘PuOr’, ‘PuOr_r’, ‘PuRd’, ‘PuRd_r’, ‘Purples’, ‘Purples_r’, ‘RdBu’, ‘RdBu_r’, ‘RdGy’, ‘RdGy_r’, ‘RdPu’, ‘RdPu_r’, ‘RdYlBu’, ‘RdYlBu_r’, ‘RdYlGn’, ‘RdYlGn_r’, ‘Reds’, ‘Reds_r’, ‘Set1’, ‘Set1_r’, ‘Set2’, ‘Set2_r’, ‘Set3’, ‘Set3_r’, ‘Spectral’, ‘Spectral_r’, ‘Wistia’, ‘Wistia_r’, ‘YlGn’, ‘YlGnBu’, ‘YlGnBu_r’, ‘YlGn_r’, ‘YlOrBr’, ‘YlOrBr_r’, ‘YlOrRd’, ‘YlOrRd_r’, ‘afmhot’, ‘afmhot_r’, ‘autumn’, ‘autumn_r’, ‘binary’, ‘binary_r’,  ‘bone’, ‘bone_r’, ‘brg’, ‘brg_r’, ‘bwr’, ‘bwr_r’, ‘cividis’, ‘cividis_r’, ‘cool’, ‘cool_r’,  ‘coolwarm’, ‘coolwarm_r’, ‘copper’, ‘copper_r’, ‘cubehelix’, ‘cubehelix_r’, ‘flag’, ‘flag_r’,  ‘gist_earth’, ‘gist_earth_r’, ‘gist_gray’, ‘gist_gray_r’, ‘gist_heat’, ‘gist_heat_r’, ‘gist_ncar’,  ‘gist_ncar_r’, ‘gist_rainbow’, ‘gist_rainbow_r’, ‘gist_stern’, ‘gist_stern_r’, ‘gist_yarg’,  ‘gist_yarg_r’, ‘gnuplot’, ‘gnuplot2’, ‘gnuplot2_r’, ‘gnuplot_r’, ‘gray’, ‘gray_r’, ‘hot’, ‘hot_r’,  ‘hsv’, ‘hsv_r’, ‘icefire’, ‘icefire_r’, ‘inferno’, ‘inferno_r’, ‘jet’, ‘jet_r’, ‘magma’, ‘magma_r’,  ‘mako’, ‘mako_r’, ‘nipy_spectral’, ‘nipy_spectral_r’, ‘ocean’, ‘ocean_r’, ‘pink’, ‘pink_r’,  ‘plasma’, ‘plasma_r’, ‘prism’, ‘prism_r’, ‘rainbow’, ‘rainbow_r’, ‘rocket’, ‘rocket_r’,  ‘seismic’, ‘seismic_r’, ‘spring’, ‘spring_r’, ‘summer’, ‘summer_r’, ‘tab10’, ‘tab10_r’,’tab20′, ‘tab20_r’, ‘tab20b’, ‘tab20b_r’, ‘tab20c’, ‘tab20c_r’, ‘terrain’, ‘terrain_r’, ‘turbo’,  ‘turbo_r’, ‘twilight’, ‘twilight_r’, ‘twilight_shifted’, ‘twilight_shifted_r’, ‘viridis’,  ‘viridis_r’, ‘vlag’, ‘vlag_r’, ‘winter’, ‘winter_r’"
   ]
  },
  {
   "cell_type": "code",
   "execution_count": null,
   "metadata": {},
   "outputs": [],
   "source": [
    "# creating an own color palette and set it as the current color palette\n",
    "color = [\"green\", \"White\", \"Red\", \"Yellow\", \"Green\", \"Grey\"]\n",
    "sns.set_palette(color)\n",
    "a=sns.color_palette()\n",
    "sns.palplot(a)\n"
   ]
  },
  {
   "cell_type": "markdown",
   "metadata": {},
   "source": [
    "# 4. FacetGrid() method\n",
    "FacetGrid class helps in visualizing distribution of one variable as well as the relationship between multiple variables separately within subsets of your dataset using multiple panels.\n",
    "\n",
    "A FacetGrid can be drawn with up to three dimensions ? row, col, and hue. The first two have obvious correspondence with the resulting array of axes; think of the hue variable as a third dimension along a depth axis, where different levels are plotted with different colors.\n",
    "FacetGrid object takes a dataframe as input and the names of the"
   ]
  },
  {
   "cell_type": "markdown",
   "metadata": {},
   "source": [
    "data --> DataFrame\n",
    "\n",
    "Tidy (“long-form”) dataframe where each column is a variable and each row is an observation.    \n",
    "\n",
    "row, col, hue --> strings\n",
    "\n",
    "Variables that define subsets of the data, which will be drawn on separate facets in the grid. See the “*_order“ parameters to control the order of levels of this variable.\n",
    "\n",
    "palette\t--> palette name, list, or dict, optional\n",
    "\n",
    "Colors to use for the different levels of the “hue“ variable."
   ]
  },
  {
   "cell_type": "code",
   "execution_count": null,
   "metadata": {},
   "outputs": [],
   "source": [
    "df = sns.load_dataset('tips')\n",
    "graph = sns.FacetGrid(df, col =\"sex\", hue =\"day\")\n",
    "sns.set_context('paper', font_scale = 1) # using poster.\n",
    "\n",
    "graph.map(plt.scatter, \"total_bill\", \"tip\", edgecolor =\"w\").add_legend() # # map the above form facetgrid with some attributes\n",
    "plt.show()\n",
    "# Draw a legend, maybe placing it outside axes and resizing the figure.\n",
    "# This code is contributed by Deepanshu Rustagi.\n"
   ]
  },
  {
   "cell_type": "code",
   "execution_count": null,
   "metadata": {},
   "outputs": [],
   "source": [
    "\n",
    "df = sns.load_dataset('tips')\n",
    "graph = sns.FacetGrid(df, row ='smoker', col ='time')\n",
    "# map the above form facetgrid with some attributes\n",
    "graph.map(plt.hist, 'total_bill', bins = 15, color ='orange')\n",
    "plt.show()\n",
    "\n",
    "# This code is contributed by Deepanshu Rustagi.\n"
   ]
  },
  {
   "cell_type": "code",
   "execution_count": null,
   "metadata": {},
   "outputs": [],
   "source": [
    "\n",
    "df = sns.load_dataset('tips')\n",
    "\n",
    "graph = sns.FacetGrid(df, col ='time', hue ='smoker')\n",
    "# map the above form facetgrid with some attributes\n",
    "graph.map(sns.regplot, \"total_bill\", \"tip\").add_legend()\n",
    "# show the object\n",
    "plt.show()\n",
    "\n",
    "# This code is contributed by Deepanshu Rustagi.\n"
   ]
  },
  {
   "cell_type": "markdown",
   "metadata": {},
   "source": [
    "# 5. PairGrid() method\n",
    "PairGrid() :\n",
    "Subplot grid for plotting pairwise relationships in a dataset.\n",
    "This class maps each variable in a dataset onto a column and row in a grid of multiple axes. Different axes-level plotting functions can be used to draw bivariate plots in the upper and lower triangles, and the the marginal distribution of each variable can be shown on the diagonal."
   ]
  },
  {
   "cell_type": "code",
   "execution_count": null,
   "metadata": {},
   "outputs": [],
   "source": [
    "\n",
    "df = sns.load_dataset('tips')\n",
    "\n",
    "graph = sns.PairGrid(df, hue ='day') # PairGrid object with hue\n",
    "\n",
    "graph = graph.map_diag(plt.hist)# type of graph for diagonal\n",
    "graph = graph.map_offdiag(plt.scatter)# type of graph for non-diagonal\n",
    "\n",
    "graph = graph.add_legend()# to add legends\n",
    "\n",
    "plt.show()\n",
    "# This code is contributed by Deepanshu Rusatgi.\n"
   ]
  },
  {
   "cell_type": "code",
   "execution_count": null,
   "metadata": {},
   "outputs": [],
   "source": [
    "sns.pairplot(df,hue ='day') # similar to previous"
   ]
  },
  {
   "cell_type": "code",
   "execution_count": null,
   "metadata": {},
   "outputs": [],
   "source": [
    "\n",
    "df = sns.load_dataset('tips')\n",
    "\n",
    "graph = sns.PairGrid(df)# PairGrid object with hue\n",
    "graph = graph.map_upper(sns.scatterplot) # type of graph for non-diagonal(upper part)\n",
    "graph = graph.map_lower(sns.kdeplot)# type of graph for non-diagonal(lower part)\n",
    "graph = graph.map_diag(sns.kdeplot, lw = 2)# type of graph for diagonal\n",
    "plt.show()\n",
    "# This code is contributed by Deepanshu Rusatgi.\n"
   ]
  },
  {
   "cell_type": "markdown",
   "metadata": {},
   "source": [
    "# 6. Scatter Plot()"
   ]
  },
  {
   "cell_type": "code",
   "execution_count": null,
   "metadata": {},
   "outputs": [],
   "source": [
    "sns.set(style='whitegrid')\n",
    "fmri = sns.load_dataset(\"fmri\")\n",
    "sns.scatterplot(x=\"timepoint\",y=\"signal\",data=fmri)"
   ]
  },
  {
   "cell_type": "code",
   "execution_count": null,
   "metadata": {},
   "outputs": [],
   "source": [
    "sns.set(style='whitegrid')\n",
    "fmri = sns.load_dataset(\"fmri\")\n",
    "sns.scatterplot(x=\"timepoint\",y=\"signal\",hue=\"region\",style=\"event\",data=fmri)"
   ]
  },
  {
   "cell_type": "code",
   "execution_count": null,
   "metadata": {},
   "outputs": [],
   "source": [
    "tip = sns.load_dataset(\"tips\")\n",
    "sns.scatterplot(x='day', y='tip', data= tip, marker = '+')\n"
   ]
  },
  {
   "cell_type": "code",
   "execution_count": null,
   "metadata": {},
   "outputs": [],
   "source": [
    "tip = sns.load_dataset(\"tips\")\n",
    "sns.scatterplot(x='day', y='tip', data=tip, hue=\"time\", style=\"time\")\n"
   ]
  },
  {
   "cell_type": "code",
   "execution_count": null,
   "metadata": {},
   "outputs": [],
   "source": [
    "# Adding size attributes.\n",
    "sns.scatterplot(x='day', y='tip', data=tip ,hue='size', size = \"size\")\n"
   ]
  },
  {
   "cell_type": "code",
   "execution_count": null,
   "metadata": {},
   "outputs": [],
   "source": [
    "# Adding legend attributes.\n",
    "sns.scatterplot(x='day', y='tip', data=tip, hue='day',sizes=(300, 2000), legend='brief')\n"
   ]
  },
  {
   "cell_type": "markdown",
   "metadata": {},
   "source": [
    "# 7. Make Scatter Plot with Regression Line using Seaborn\n",
    "Regression Plot : Two main functions in seaborn are wont to visualize a linear relationship as determined through regression. These functions, regplot() and lmplot() are closely related and share much of their core functionality."
   ]
  },
  {
   "cell_type": "markdown",
   "metadata": {},
   "source": [
    "Using regplot() method\n",
    "\n",
    "This method is used to plot data and a linear regression model fit. There are a number of mutually exclusive options for estimating the regression model."
   ]
  },
  {
   "cell_type": "code",
   "execution_count": null,
   "metadata": {},
   "outputs": [],
   "source": [
    "df=sns.load_dataset('iris')\n",
    "# use regplot\n",
    "sns.regplot(x = \"sepal_length\",y = \"petal_length\",ci = None, data = df)\n"
   ]
  },
  {
   "cell_type": "markdown",
   "metadata": {},
   "source": [
    " Using lmplot() method\n",
    "\n",
    "The lmplot is another most basic plot. It shows a line representing a linear regression model along with data points on the 2D-space and x and y can be set as the horizontal and vertical labels respectively."
   ]
  },
  {
   "cell_type": "code",
   "execution_count": null,
   "metadata": {},
   "outputs": [],
   "source": [
    "df = sns.load_dataset('iris')\n",
    "# use lmplot\n",
    "sns.lmplot(x = \"sepal_length\",y = \"petal_length\",ci = None,data = df)\n"
   ]
  },
  {
   "cell_type": "markdown",
   "metadata": {},
   "source": [
    "# 8. Scatter Plot with Marginal Histograms in Python with Seaborn\n",
    "Scatter Plot with Marginal Histograms is basically a joint distribution plot with the marginal distributions of the two variables. In data visualization, we often plot the joint behavior of two random variables (bi-variate distribution) or any number of random variables.\n",
    "\n",
    "In seaborn, this is facilitated with jointplot(). It represents the bi-variate distribution using scatterplot() and the marginal distributions using histplot(). "
   ]
  },
  {
   "cell_type": "code",
   "execution_count": null,
   "metadata": {},
   "outputs": [],
   "source": [
    "tips = sns.load_dataset(\"tips\")\n",
    "\n",
    "# plotting scatterplot with histograms for features total bill and tip.\n",
    "sns.jointplot(data=tips, x=\"total_bill\", y=\"tip\")\n"
   ]
  },
  {
   "cell_type": "code",
   "execution_count": null,
   "metadata": {},
   "outputs": [],
   "source": [
    "# Using kind=”reg” attribute you can add a linear regression fit and univariate KDE curves.\n",
    "tips = sns.load_dataset(\"tips\")\n",
    "\n",
    "# here \"*\" is used as a marker for scatterplot\n",
    "sns.jointplot(data=tips, x=\"total_bill\", y=\"tip\", kind=\"reg\", marker=\"*\")\n"
   ]
  },
  {
   "cell_type": "markdown",
   "metadata": {},
   "source": [
    "To add conditional colors to the scatterplot you can use hue attribute but it draws separate density curves (using kdeplot()) on the marginal axes."
   ]
  },
  {
   "cell_type": "code",
   "execution_count": null,
   "metadata": {},
   "outputs": [],
   "source": [
    "tips = sns.load_dataset(\"tips\")\n",
    "sns.jointplot(data=tips, x=\"total_bill\", y=\"tip\", hue=\"time\")\n"
   ]
  },
  {
   "cell_type": "markdown",
   "metadata": {},
   "source": [
    "set()\n",
    "\n",
    "Attributes: \n",
    "\n",
    "Context: plotting context parameters\n",
    "\n",
    "Style: defines style\n",
    "\n",
    "Palette: sets a color palette\n",
    "\n",
    "Font\n",
    "\n",
    "Font_scale: sets font size\n",
    "\n",
    "Color_codes: If set True then palette is activated, short hand notations for colors can be remapped from the palette.\n",
    "\n",
    "rc: parameter to over-ride the above parameters\n",
    "Example:"
   ]
  },
  {
   "cell_type": "markdown",
   "metadata": {},
   "source": [
    "# 9. Creating A Time Series Plot With Seaborn And Pandas"
   ]
  },
  {
   "cell_type": "code",
   "execution_count": null,
   "metadata": {},
   "outputs": [],
   "source": [
    "# importing packages\n",
    "import seaborn as sns\n",
    "import pandas as pd\n",
    "import matplotlib.pyplot as plt\n",
    "\n",
    "# creating data\n",
    "df = pd.DataFrame({'Date': ['2019-10-01', '2019-11-01',\n",
    "\t\t\t\t\t\t\t'2019-12-01','2020-01-01',\n",
    "\t\t\t\t\t\t\t'2020-02-01', '2020-03-01',\n",
    "\t\t\t\t\t\t\t'2020-04-01', '2020-05-01',\n",
    "\t\t\t\t\t\t\t'2020-06-01'],\n",
    "\t\t\t\t\t\n",
    "\t\t\t\t'Col_1': [34, 43, 14, 15, 15,\n",
    "\t\t\t\t\t\t\t14, 31, 25, 62],\n",
    "\t\t\t\t\t\n",
    "\t\t\t\t'Col_2': [52, 66, 78, 15, 15,\n",
    "\t\t\t\t\t\t\t5, 25, 25, 86],\n",
    "\t\t\t\t\t\n",
    "\t\t\t\t'Col_3': [13, 73, 82, 58, 52,\n",
    "\t\t\t\t\t\t\t87, 26, 5, 56],\n",
    "\t\t\t\t'Col_4': [44, 75, 26, 15, 15,\n",
    "\t\t\t\t\t\t\t14, 54, 25, 24]})\n",
    "# create the time series subplots\n",
    "fig,ax = plt.subplots( 2, 2,\n",
    "\t\t\t\t\tfigsize = ( 10, 8))\n",
    "\n",
    "sns.lineplot( x = \"Date\", y = \"Col_1\",color = 'r', data = df,ax = ax[0][0])\n",
    "ax[0][0].tick_params(labelrotation = 25)\n",
    "\n",
    "sns.lineplot( x = \"Date\", y = \"Col_2\",color = 'g', data = df,ax = ax[0][1])\n",
    "ax[0][1].tick_params(labelrotation = 25)\n",
    "\n",
    "sns.lineplot(x = \"Date\", y = \"Col_3\",color = 'b', data = df,ax = ax[1][0])\n",
    "ax[1][0].tick_params(labelrotation = 25)\n",
    "\n",
    "sns.lineplot(x = \"Date\", y = \"Col_4\",color = 'y', data = df,ax = ax[1][1])\n",
    "ax[1][1].tick_params(labelrotation = 25)\n",
    "\n",
    "fig.tight_layout(pad = 1.2)\n"
   ]
  },
  {
   "cell_type": "code",
   "execution_count": null,
   "metadata": {},
   "outputs": [],
   "source": [
    "df=pd.read_csv('daily-total-female-births.csv')"
   ]
  },
  {
   "cell_type": "code",
   "execution_count": null,
   "metadata": {},
   "outputs": [],
   "source": [
    "df.head()"
   ]
  },
  {
   "cell_type": "markdown",
   "metadata": {},
   "source": [
    "# 10. How to Make a Time Series Plot with Rolling Average in Python?"
   ]
  },
  {
   "cell_type": "markdown",
   "metadata": {},
   "source": [
    "Plot a simple time series plot using seaborn.lineplot()"
   ]
  },
  {
   "cell_type": "code",
   "execution_count": null,
   "metadata": {},
   "outputs": [],
   "source": [
    "\n",
    "plt.figure( figsize = ( 12, 5))\n",
    "\n",
    "# plot a simple time series plot using seaborn.lineplot()\n",
    "sns.lineplot( x = 'Date',y = 'Births',data = df,label = 'DailyBirths')\n",
    "\n",
    "plt.xlabel( 'Months of the year 1959')\n",
    "\n",
    "# setting customized ticklabels for x axis\n",
    "pos = [ '1959-01-01', '1959-02-01', '1959-03-01', '1959-04-01',\n",
    "\t    '1959-05-01', '1959-06-01', '1959-07-01', '1959-08-01',\n",
    "\t    '1959-09-01', '1959-10-01', '1959-11-01', '1959-12-01']\n",
    "\n",
    "lab = [ 'Jan', 'Feb', 'Mar', 'Apr', 'May', 'June',\n",
    "\t'July', 'Aug', 'Sept', 'Oct', 'Nov', 'Dec']\n",
    "\n",
    "plt.xticks( pos, lab)\n",
    "\n",
    "plt.ylabel('Female Births')\n"
   ]
  }
 ],
 "metadata": {
  "interpreter": {
   "hash": "2be5faf79681da6f2a61fdfdd5405d65d042280f7fba6178067603e3a2925119"
  },
  "kernelspec": {
   "display_name": "Python 3.10.1 64-bit",
   "language": "python",
   "name": "python3"
  },
  "language_info": {
   "codemirror_mode": {
    "name": "ipython",
    "version": 3
   },
   "file_extension": ".py",
   "mimetype": "text/x-python",
   "name": "python",
   "nbconvert_exporter": "python",
   "pygments_lexer": "ipython3",
   "version": "3.10.1"
  },
  "orig_nbformat": 4
 },
 "nbformat": 4,
 "nbformat_minor": 2
}
